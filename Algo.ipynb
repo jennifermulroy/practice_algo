{
 "cells": [
  {
   "cell_type": "markdown",
   "metadata": {},
   "source": [
    " # Algorithm Problems "
   ]
  },
  {
   "cell_type": "code",
   "execution_count": null,
   "metadata": {},
   "outputs": [],
   "source": [
    "import pandas as pd\n",
    "from urllib.request import urlopen\n",
    "from bs4 import BeautifulSoup\n",
    "import sys"
   ]
  },
  {
   "cell_type": "markdown",
   "metadata": {},
   "source": [
    "#### Given a non-empty array of integers, every element appears twice except for one. Find that single one.\n",
    "Input: [2,2,1]\n",
    "Output: 1"
   ]
  },
  {
   "cell_type": "code",
   "execution_count": 55,
   "metadata": {},
   "outputs": [
    {
     "data": {
      "text/plain": [
       "4"
      ]
     },
     "execution_count": 55,
     "metadata": {},
     "output_type": "execute_result"
    }
   ],
   "source": [
    "nums = [4,1,2,1,2]\n",
    "\n",
    "def singleNumber(nums):\n",
    "    check_i_dict = {}\n",
    "    \n",
    "    for i in range(len(nums)):\n",
    "        check_i = nums[i]\n",
    "        if check_i not in check_i_dict:\n",
    "            check_i_dict[check_i] = 0\n",
    "        check_i_dict[check_i] += 1\n",
    "        \n",
    "    for i in check_i_dict:\n",
    "        if check_i_dict[i] == 1:\n",
    "            value = i\n",
    "    return(value)\n",
    "\n",
    "singleNumber(nums)"
   ]
  },
  {
   "cell_type": "markdown",
   "metadata": {},
   "source": [
    "#### Write an algorithm to determine if a number n is \"happy\". \n",
    "\n",
    "A happy number is a number defined by the following process: Starting with any positive integer, replace the number by the sum of the squares of its digits, and repeat the process until the number equals 1 (where it will stay), or it loops endlessly in a cycle which does not include 1. Those numbers for which this process ends in 1 are happy numbers.\n",
    "\n",
    "Return True if n is a happy number, and False if not.\n",
    "\n",
    "Example: \n",
    "\n",
    "Input: 19\n",
    "\n",
    "Output: True\n",
    "\n",
    "Explanation: \n",
    "\n",
    "12 + 92 = 82\n",
    "82 + 22 = 68\n",
    "62 + 82 = 100\n",
    "12 + 02 + 02 = 1"
   ]
  },
  {
   "cell_type": "code",
   "execution_count": 59,
   "metadata": {},
   "outputs": [
    {
     "data": {
      "text/plain": [
       "True"
      ]
     },
     "execution_count": 59,
     "metadata": {},
     "output_type": "execute_result"
    }
   ],
   "source": [
    "def is_happy(n):\n",
    "    digits = [int(x) for x in str(n)]\n",
    "    if(digits[0]**2 + digits[1]**2==1):\n",
    "        return(True)\n",
    "        \n",
    "    else:\n",
    "        value = digits[0]**2 + digits[1]**2\n",
    "        return is_happy(value)\n",
    "        \n",
    "        \n",
    "is_happy(19)        \n"
   ]
  },
  {
   "cell_type": "code",
   "execution_count": 60,
   "metadata": {},
   "outputs": [
    {
     "data": {
      "text/plain": [
       "True"
      ]
     },
     "execution_count": 60,
     "metadata": {},
     "output_type": "execute_result"
    }
   ],
   "source": [
    "def is_happy(n):\n",
    "    max_int = 1000\n",
    "    counter = 0\n",
    "    while n != 1:\n",
    "        n_str = str(n)\n",
    "        sum = 0\n",
    "        for i in n_str:\n",
    "            sum += int(i)**2\n",
    "            n = sum\n",
    "            counter += 1\n",
    "            if counter > max_int:\n",
    "                return (False)\n",
    "        return True\n",
    "is_happy(19)"
   ]
  },
  {
   "cell_type": "code",
   "execution_count": 61,
   "metadata": {},
   "outputs": [
    {
     "data": {
      "text/plain": [
       "True"
      ]
     },
     "execution_count": 61,
     "metadata": {},
     "output_type": "execute_result"
    }
   ],
   "source": [
    "def is_happy(n):\n",
    "    value = 0\n",
    "    digits = [int(x) for x in str(n)]\n",
    "    for i in digits:\n",
    "        value += i**2\n",
    "    if value == 1:\n",
    "        return (True)\n",
    "    else:\n",
    "       return (is_happy(value))\n",
    "    \n",
    "is_happy(19)            "
   ]
  },
  {
   "cell_type": "markdown",
   "metadata": {},
   "source": [
    "#### Given an integer array nums, find the contiguous subarray (containing at least one number) which has the largest sum and return its sum.\n",
    "\n",
    "Input: [-2,1,-3,4,-1,2,1,-5,4]\n",
    "\n",
    "Output: 6\n",
    "\n",
    "Explanation: [4,-1,2,1] has the largest sum = 6."
   ]
  },
  {
   "cell_type": "code",
   "execution_count": 288,
   "metadata": {},
   "outputs": [
    {
     "name": "stdout",
     "output_type": "stream",
     "text": [
      "6\n"
     ]
    }
   ],
   "source": [
    "#class Solution:\n",
    "    #def maxSubArray(self, nums: List[int]) -> int:\n",
    "nums =  [-2,1,-3,4,-1,2,1,-5,4]\n",
    "largest_sum = {}\n",
    "sum = 0 \n",
    "sum_check = 0\n",
    "for i in range(len(nums)):\n",
    "    max_sum = nums[i]\n",
    "    sum_check = nums[i]\n",
    "    for j in range(i+1, len(nums)):\n",
    "        sum_check += nums[j]\n",
    "        if (sum_check > max_sum):\n",
    "            max_sum = sum_check\n",
    "    largest_sum[i] = max_sum\n",
    "all_values = largest_sum.values()\n",
    "max_value = max(all_values)\n",
    "print(max_value)\n"
   ]
  },
  {
   "cell_type": "code",
   "execution_count": null,
   "metadata": {},
   "outputs": [],
   "source": [
    "nums =  [-2,1,-3,4,-1,2,1,-5,4]\n",
    "\n",
    "sum = []\n",
    "sum_check = 0\n",
    "for i in range(len(nums)):\n",
    "    max_sum = nums[i]\n",
    "    sum_check = nums[i]\n",
    "    for j in range(i+1, len(nums)):\n",
    "        sum_check += nums[j]\n",
    "        if (sum_check > max_sum):\n",
    "            max_sum = sum_check\n",
    "    if max_sum >= sum[i]:\n",
    "        sum[i] = max_sum\n",
    "    "
   ]
  },
  {
   "cell_type": "code",
   "execution_count": 64,
   "metadata": {},
   "outputs": [
    {
     "name": "stdout",
     "output_type": "stream",
     "text": [
      "4\n"
     ]
    }
   ],
   "source": [
    "sum = []\n",
    "sum_check = 0\n",
    "for i in range(len(nums)):\n",
    "    max_sum = nums[i]\n",
    "    sum_check = nums[i]\n",
    "for j in range(i+1, len(nums)):\n",
    "    sum_check += nums[j]\n",
    "    if (sum_check > max_sum):\n",
    "        max_sum = sum_check\n",
    "        sum.append(max_sum)\n",
    "        max_sum = max(sum)\n",
    "print(max_sum)"
   ]
  },
  {
   "cell_type": "code",
   "execution_count": 293,
   "metadata": {},
   "outputs": [
    {
     "name": "stdout",
     "output_type": "stream",
     "text": [
      "7\n"
     ]
    }
   ],
   "source": [
    "nums =  [-2,1,-3,4,-1,2,1,-5,4]\n",
    "sum = []\n",
    "\n",
    "for i in range(len(nums)):\n",
    "    max_sum = nums[i]\n",
    "    sum_check += nums[i]\n",
    "    if (sum_check > max_sum):\n",
    "        max_sum = sum_check\n",
    "    sum.append(max_sum)\n",
    "    max_sum = max(sum)\n",
    "print(max_sum)"
   ]
  },
  {
   "cell_type": "code",
   "execution_count": 270,
   "metadata": {},
   "outputs": [
    {
     "name": "stdout",
     "output_type": "stream",
     "text": [
      "6\n"
     ]
    }
   ],
   "source": [
    "max_so_far = curr_so_far = -float('inf')\n",
    "for i in range(len(nums)):\n",
    "    curr_so_far += nums[i]\n",
    "    curr_so_far = max(curr_so_far, nums[i])\n",
    "    max_so_far = max(max_so_far, curr_so_far)\n",
    "print(max_so_far)\n",
    "    "
   ]
  },
  {
   "cell_type": "code",
   "execution_count": null,
   "metadata": {},
   "outputs": [],
   "source": [
    "max_so_far = curr_so_far = -float('inf')\n",
    "        for i in xrange(len(nums)):\n",
    "            curr_so_far += nums[i] # Add curr number\n",
    "            curr_so_far = max(curr_so_far, nums[i]) # Check if should abandon accumulated value so far if it's a burden due to negative value accumulated\n",
    "            max_so_far = max(max_so_far, curr_so_far) # Update answer\n",
    "            \n",
    "        return max_so_far"
   ]
  },
  {
   "cell_type": "code",
   "execution_count": 295,
   "metadata": {},
   "outputs": [
    {
     "name": "stdout",
     "output_type": "stream",
     "text": [
      "9\n"
     ]
    }
   ],
   "source": [
    "nums =  [-2,1,-3,4,-1,2,1,-5,4]\n",
    "sum = []\n",
    "\n",
    "for i in range(len(nums)):\n",
    "    max_sum = nums[i]\n",
    "    sum_check += nums[i]\n",
    "    if (sum_check > max_sum):\n",
    "        max_sum = sum_check\n",
    "    sum.append(max_sum)\n",
    "    max_sum = max(sum)\n",
    "print(max_sum)"
   ]
  },
  {
   "cell_type": "markdown",
   "metadata": {},
   "source": [
    "#### Given an array nums, write a function to move all 0's to the end of it while maintaining the relative order of the non-zero elements.\n",
    "\n",
    "Input: [0,1,0,3,12]\n",
    "\n",
    "Output: [1,3,12,0,0]\n",
    "\n",
    "You must do this in-place without making a copy of the array. Minimize the total number of operations."
   ]
  },
  {
   "cell_type": "code",
   "execution_count": 329,
   "metadata": {},
   "outputs": [
    {
     "data": {
      "text/plain": [
       "[1, 3, 12, 0, 0]"
      ]
     },
     "execution_count": 329,
     "metadata": {},
     "output_type": "execute_result"
    }
   ],
   "source": [
    "\n",
    "\n",
    "nums = [0,1,0,3,12]\n",
    "def moveZeroes(nums):\n",
    "    for i in range(len(nums)):\n",
    "        if nums[i] == 0:\n",
    "            nums.append(nums[i])\n",
    "            nums.remove(nums[i])\n",
    "    return(nums)\n",
    "moveZeroes(nums)"
   ]
  },
  {
   "cell_type": "markdown",
   "metadata": {},
   "source": [
    "#### Design an algorithm to find the maximum profit. You may complete as many transactions as you like (i.e., buy one and sell one share of the stock multiple times).\n",
    "Note: You may not engage in multiple transactions at the same time (i.e., you must sell the stock before you buy again).\n",
    "\n",
    "Input: [6,1,5,3,6,4]\n",
    "\n",
    "Output: 5"
   ]
  },
  {
   "cell_type": "code",
   "execution_count": 68,
   "metadata": {},
   "outputs": [
    {
     "data": {
      "text/plain": [
       "5"
      ]
     },
     "execution_count": 68,
     "metadata": {},
     "output_type": "execute_result"
    }
   ],
   "source": [
    "\n",
    "\n",
    "prices = [6,1,5,3,6,4]\n",
    "\n",
    "\n",
    "def maxProfit(prices):\n",
    "    max_profit = 0\n",
    "    for i in range(len(prices)-1):\n",
    "        for j in range(i+1, len(prices)):\n",
    "            max_profit = max(max_profit, prices[j]-prices[i])\n",
    "    return(max_profit)\n",
    "\n",
    "maxProfit(prices)\n",
    "    "
   ]
  },
  {
   "cell_type": "code",
   "execution_count": 69,
   "metadata": {},
   "outputs": [
    {
     "data": {
      "text/plain": [
       "5"
      ]
     },
     "execution_count": 69,
     "metadata": {},
     "output_type": "execute_result"
    }
   ],
   "source": [
    "stock_price = [6,1,5,3,6,4]\n",
    "\n",
    "def maxProfit(stock_price):\n",
    "    max_profit_val, current_max_val = 0, 0 \n",
    "    for price in reversed(stock_price):                       \n",
    "        current_max_val = max(current_max_val, price)          \n",
    "        potential_profit = current_max_val - price          \n",
    "        max_profit_val = max(potential_profit, max_profit_val)\n",
    "\n",
    "    return max_profit_val\n",
    "\n",
    "maxProfit(stock_price)"
   ]
  },
  {
   "cell_type": "code",
   "execution_count": 70,
   "metadata": {},
   "outputs": [
    {
     "data": {
      "text/plain": [
       "7"
      ]
     },
     "execution_count": 70,
     "metadata": {},
     "output_type": "execute_result"
    }
   ],
   "source": [
    "#calculates profits based on multiple trades\n",
    "def maxProfit_ntrades(prices):\n",
    "    total_profit = 0\n",
    "    for i in range(len(prices)-1):\n",
    "        if (prices[i+1] > prices[i]):\n",
    "            curr_profit = prices[i+1] - prices[i]\n",
    "            total_profit += curr_profit\n",
    "    return(total_profit)\n",
    "\n",
    "maxProfit_ntrades(prices)"
   ]
  },
  {
   "cell_type": "markdown",
   "metadata": {},
   "source": [
    "### Web Scraping Example using Beautiful Soup Library\n",
    "\n",
    "Function pulls the historical starting line up for every NBA team beginning in season 2013 and returns all data into one DataFrame"
   ]
  },
  {
   "cell_type": "code",
   "execution_count": null,
   "metadata": {},
   "outputs": [],
   "source": [
    "def starting_lineup():\n",
    "        \n",
    "    team_name_list = ['ATL','BOS','BRK', 'CHI', 'CLE', 'DAL', 'DEN', 'DET', 'GSW', 'HOU', 'IND', 'LAC', 'LAL', 'MEM', 'MIA',\n",
    "                       'MIL', 'MIN', 'NYK', 'OKC', 'ORL', 'PHI', 'PHO', 'POR', 'SAC', 'SAS', 'TOR', 'UTA', 'WAS']\n",
    "    \n",
    "    \n",
    "    header = ['Game Date', 'Box Score', 'Team', 'Player1', 'Player2', 'Player3', 'Player4', 'Player5']\n",
    "    lineup_data_final = pd.DataFrame()\n",
    "    year = [2013, 2014, 2015, 2016, 2017, 2018, 2019]\n",
    "    \n",
    "    for i in team_name_list:\n",
    "        for j in year:  \n",
    "            url = 'https://www.basketball-reference.com/teams/{}/{}_start.html'.format(i, j)\n",
    "            html = urlopen(url)\n",
    "            soup = BeautifulSoup(html)\n",
    "            tr_rows = soup.find_all('tr')[1:83]\n",
    "            lineup_data = [[a.get_text() for a in tr_rows[i].find_all('a')] for i in range(len(tr_rows))]\n",
    "            lineup_data_df = pd.DataFrame(lineup_data, columns=header)\n",
    "            lineup_data_df['Team'] = i \n",
    "            lineup_data_df['Game Date'] = pd.to_datetime(lineup_data_df['Game Date'])\n",
    "            lineup_data_final = lineup_data_final.append(lineup_data_df)\n",
    "    \n",
    "    \n",
    "    return lineup_data_final"
   ]
  },
  {
   "cell_type": "code",
   "execution_count": 8,
   "metadata": {},
   "outputs": [],
   "source": [
    "team_name_list = ['ATL']\n",
    "header = ['Game Date', 'Box Score', 'Team', 'Player1', 'Player2', 'Player3', 'Player4', 'Player5']\n",
    "lineup_data_final = pd.DataFrame()\n",
    "year = 2013 \n",
    "\n",
    " \n",
    "url = 'https://www.basketball-reference.com/teams/{}/{}_start.html'.format('ATL', 2013)\n",
    "html = urlopen(url)\n",
    "soup = BeautifulSoup(html)\n",
    "tr_rows = soup.find_all('tr')[1:83]\n",
    "lineup_data = [[a.get_text() for a in tr_rows[i].find_all('a')] for i in range(len(tr_rows))]\n",
    "            \n"
   ]
  },
  {
   "cell_type": "code",
   "execution_count": 6,
   "metadata": {},
   "outputs": [],
   "source": [
    "lineup_data_df = pd.DataFrame(lineup_data, columns=header)\n",
    "lineup_data_df['Team'] = i \n",
    "lineup_data_df['Game Date'] = pd.to_datetime(lineup_data_df['Game Date'])\n",
    "lineup_data_final = lineup_data_final.append(lineup_data_df)"
   ]
  },
  {
   "cell_type": "code",
   "execution_count": 7,
   "metadata": {},
   "outputs": [
    {
     "data": {
      "text/html": [
       "<div>\n",
       "<style scoped>\n",
       "    .dataframe tbody tr th:only-of-type {\n",
       "        vertical-align: middle;\n",
       "    }\n",
       "\n",
       "    .dataframe tbody tr th {\n",
       "        vertical-align: top;\n",
       "    }\n",
       "\n",
       "    .dataframe thead th {\n",
       "        text-align: right;\n",
       "    }\n",
       "</style>\n",
       "<table border=\"1\" class=\"dataframe\">\n",
       "  <thead>\n",
       "    <tr style=\"text-align: right;\">\n",
       "      <th></th>\n",
       "      <th>Game Date</th>\n",
       "      <th>Box Score</th>\n",
       "      <th>Team</th>\n",
       "      <th>Player1</th>\n",
       "      <th>Player2</th>\n",
       "      <th>Player3</th>\n",
       "      <th>Player4</th>\n",
       "      <th>Player5</th>\n",
       "    </tr>\n",
       "  </thead>\n",
       "  <tbody>\n",
       "    <tr>\n",
       "      <td>0</td>\n",
       "      <td>2012-11-02</td>\n",
       "      <td>Box Score</td>\n",
       "      <td>ATL</td>\n",
       "      <td>D. Harris</td>\n",
       "      <td>A. Horford</td>\n",
       "      <td>K. Korver</td>\n",
       "      <td>J. Smith</td>\n",
       "      <td>J. Teague</td>\n",
       "    </tr>\n",
       "    <tr>\n",
       "      <td>1</td>\n",
       "      <td>2012-11-04</td>\n",
       "      <td>Box Score</td>\n",
       "      <td>ATL</td>\n",
       "      <td>A. Horford</td>\n",
       "      <td>K. Korver</td>\n",
       "      <td>D. Stevenson</td>\n",
       "      <td>J. Teague</td>\n",
       "      <td>A. Tolliver</td>\n",
       "    </tr>\n",
       "    <tr>\n",
       "      <td>2</td>\n",
       "      <td>2012-11-07</td>\n",
       "      <td>Box Score</td>\n",
       "      <td>ATL</td>\n",
       "      <td>A. Horford</td>\n",
       "      <td>K. Korver</td>\n",
       "      <td>Z. Pachulia</td>\n",
       "      <td>J. Smith</td>\n",
       "      <td>J. Teague</td>\n",
       "    </tr>\n",
       "    <tr>\n",
       "      <td>3</td>\n",
       "      <td>2012-11-09</td>\n",
       "      <td>Box Score</td>\n",
       "      <td>ATL</td>\n",
       "      <td>A. Horford</td>\n",
       "      <td>K. Korver</td>\n",
       "      <td>J. Smith</td>\n",
       "      <td>D. Stevenson</td>\n",
       "      <td>J. Teague</td>\n",
       "    </tr>\n",
       "    <tr>\n",
       "      <td>4</td>\n",
       "      <td>2012-11-11</td>\n",
       "      <td>Box Score</td>\n",
       "      <td>ATL</td>\n",
       "      <td>A. Horford</td>\n",
       "      <td>K. Korver</td>\n",
       "      <td>Z. Pachulia</td>\n",
       "      <td>J. Smith</td>\n",
       "      <td>J. Teague</td>\n",
       "    </tr>\n",
       "    <tr>\n",
       "      <td>...</td>\n",
       "      <td>...</td>\n",
       "      <td>...</td>\n",
       "      <td>...</td>\n",
       "      <td>...</td>\n",
       "      <td>...</td>\n",
       "      <td>...</td>\n",
       "      <td>...</td>\n",
       "      <td>...</td>\n",
       "    </tr>\n",
       "    <tr>\n",
       "      <td>77</td>\n",
       "      <td>2013-04-06</td>\n",
       "      <td>Box Score</td>\n",
       "      <td>ATL</td>\n",
       "      <td>I. Johnson</td>\n",
       "      <td>D. Jones</td>\n",
       "      <td>J. Petro</td>\n",
       "      <td>J. Teague</td>\n",
       "      <td>A. Tolliver</td>\n",
       "    </tr>\n",
       "    <tr>\n",
       "      <td>78</td>\n",
       "      <td>2013-04-10</td>\n",
       "      <td>Box Score</td>\n",
       "      <td>ATL</td>\n",
       "      <td>D. Harris</td>\n",
       "      <td>A. Horford</td>\n",
       "      <td>K. Korver</td>\n",
       "      <td>J. Smith</td>\n",
       "      <td>J. Teague</td>\n",
       "    </tr>\n",
       "    <tr>\n",
       "      <td>79</td>\n",
       "      <td>2013-04-12</td>\n",
       "      <td>Box Score</td>\n",
       "      <td>ATL</td>\n",
       "      <td>D. Harris</td>\n",
       "      <td>A. Horford</td>\n",
       "      <td>K. Korver</td>\n",
       "      <td>J. Smith</td>\n",
       "      <td>J. Teague</td>\n",
       "    </tr>\n",
       "    <tr>\n",
       "      <td>80</td>\n",
       "      <td>2013-04-16</td>\n",
       "      <td>Box Score</td>\n",
       "      <td>ATL</td>\n",
       "      <td>D. Harris</td>\n",
       "      <td>K. Korver</td>\n",
       "      <td>J. Petro</td>\n",
       "      <td>J. Smith</td>\n",
       "      <td>J. Teague</td>\n",
       "    </tr>\n",
       "    <tr>\n",
       "      <td>81</td>\n",
       "      <td>2013-04-17</td>\n",
       "      <td>Box Score</td>\n",
       "      <td>ATL</td>\n",
       "      <td>J. Jenkins</td>\n",
       "      <td>I. Johnson</td>\n",
       "      <td>S. Mack</td>\n",
       "      <td>M. Scott</td>\n",
       "      <td>D. Stevenson</td>\n",
       "    </tr>\n",
       "  </tbody>\n",
       "</table>\n",
       "<p>82 rows × 8 columns</p>\n",
       "</div>"
      ],
      "text/plain": [
       "    Game Date  Box Score Team     Player1     Player2       Player3  \\\n",
       "0  2012-11-02  Box Score  ATL   D. Harris  A. Horford     K. Korver   \n",
       "1  2012-11-04  Box Score  ATL  A. Horford   K. Korver  D. Stevenson   \n",
       "2  2012-11-07  Box Score  ATL  A. Horford   K. Korver   Z. Pachulia   \n",
       "3  2012-11-09  Box Score  ATL  A. Horford   K. Korver      J. Smith   \n",
       "4  2012-11-11  Box Score  ATL  A. Horford   K. Korver   Z. Pachulia   \n",
       "..        ...        ...  ...         ...         ...           ...   \n",
       "77 2013-04-06  Box Score  ATL  I. Johnson    D. Jones      J. Petro   \n",
       "78 2013-04-10  Box Score  ATL   D. Harris  A. Horford     K. Korver   \n",
       "79 2013-04-12  Box Score  ATL   D. Harris  A. Horford     K. Korver   \n",
       "80 2013-04-16  Box Score  ATL   D. Harris   K. Korver      J. Petro   \n",
       "81 2013-04-17  Box Score  ATL  J. Jenkins  I. Johnson       S. Mack   \n",
       "\n",
       "         Player4       Player5  \n",
       "0       J. Smith     J. Teague  \n",
       "1      J. Teague   A. Tolliver  \n",
       "2       J. Smith     J. Teague  \n",
       "3   D. Stevenson     J. Teague  \n",
       "4       J. Smith     J. Teague  \n",
       "..           ...           ...  \n",
       "77     J. Teague   A. Tolliver  \n",
       "78      J. Smith     J. Teague  \n",
       "79      J. Smith     J. Teague  \n",
       "80      J. Smith     J. Teague  \n",
       "81      M. Scott  D. Stevenson  \n",
       "\n",
       "[82 rows x 8 columns]"
      ]
     },
     "execution_count": 7,
     "metadata": {},
     "output_type": "execute_result"
    }
   ],
   "source": [
    "lineup_data_final"
   ]
  },
  {
   "cell_type": "markdown",
   "metadata": {},
   "source": [
    "## Given a string containing just the characters '(', ')', '{', '}', '[' and ']', determine if the input string is valid.\n",
    "\n",
    "An input string is valid if:\n",
    "\n",
    "Open brackets must be closed by the same type of brackets.\n",
    "Open brackets must be closed in the correct order.\n",
    "Note that an empty string is also considered valid."
   ]
  },
  {
   "cell_type": "code",
   "execution_count": 171,
   "metadata": {},
   "outputs": [],
   "source": [
    "def parentheses_find_two(s):\n",
    "    parentheses_dict = {\"(\":\")\", \"[\":\"]\", \"{\":\"}\"}\n",
    "    parentheses_ls = []\n",
    "    no_parentheses = \"\"\n",
    "\n",
    "    if no_parentheses == s:\n",
    "        return True\n",
    "    if len(s) < 2 or len(s)%2 != 0:\n",
    "        return False\n",
    "    for i in s:\n",
    "        if i in parentheses_dict:\n",
    "            parentheses_ls.append(i)\n",
    "        else:\n",
    "            if parentheses_ls and i == parentheses_dict[parentheses_ls[-1]]:\n",
    "                parentheses_ls.pop()\n",
    "            else:\n",
    "                return False \n",
    "    return len(parentheses_ls) == 0\n",
    "    "
   ]
  },
  {
   "cell_type": "code",
   "execution_count": 172,
   "metadata": {},
   "outputs": [
    {
     "data": {
      "text/plain": [
       "False"
      ]
     },
     "execution_count": 172,
     "metadata": {},
     "output_type": "execute_result"
    }
   ],
   "source": [
    "s = \"({)}\"\n",
    "parentheses_find_two(s)"
   ]
  },
  {
   "cell_type": "code",
   "execution_count": 169,
   "metadata": {},
   "outputs": [],
   "source": [
    "def remove_vowels(s):\n",
    "    vowels = \"aeiouAEIOU\"\n",
    "    s_without_vowels = \"\"\n",
    "    for letter in s:\n",
    "        if letter not in vowels:\n",
    "            s_without_vowels += letter\n",
    "    return s_without_vowels"
   ]
  },
  {
   "cell_type": "code",
   "execution_count": 170,
   "metadata": {},
   "outputs": [
    {
     "data": {
      "text/plain": [
       "'jnnfr'"
      ]
     },
     "execution_count": 170,
     "metadata": {},
     "output_type": "execute_result"
    }
   ],
   "source": [
    "s = 'jennifer'\n",
    "remove_vowels(s)"
   ]
  },
  {
   "cell_type": "code",
   "execution_count": null,
   "metadata": {},
   "outputs": [],
   "source": []
  }
 ],
 "metadata": {
  "kernelspec": {
   "display_name": "Python 3",
   "language": "python",
   "name": "python3"
  },
  "language_info": {
   "codemirror_mode": {
    "name": "ipython",
    "version": 3
   },
   "file_extension": ".py",
   "mimetype": "text/x-python",
   "name": "python",
   "nbconvert_exporter": "python",
   "pygments_lexer": "ipython3",
   "version": "3.7.3"
  }
 },
 "nbformat": 4,
 "nbformat_minor": 4
}
